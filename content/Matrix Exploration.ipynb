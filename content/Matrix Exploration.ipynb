{
 "metadata": {
  "name": ""
 },
 "nbformat": 3,
 "nbformat_minor": 0,
 "worksheets": [
  {
   "cells": [
    {
     "cell_type": "code",
     "collapsed": false,
     "input": [
      "import numpy as np\n",
      "from matplotlib.pyplot import figure, show\n",
      "import matplotlib.pyplot as plt\n",
      "import math"
     ],
     "language": "python",
     "metadata": {},
     "outputs": [],
     "prompt_number": 2
    },
    {
     "cell_type": "code",
     "collapsed": false,
     "input": [
      "B = matrix([[1,2,3],[2,3,1], [3,1,2]])\n",
      "B*B\n"
     ],
     "language": "python",
     "metadata": {},
     "outputs": [
      {
       "metadata": {},
       "output_type": "pyout",
       "prompt_number": 16,
       "text": [
        "matrix([[14, 11, 11],\n",
        "        [11, 14, 11],\n",
        "        [11, 11, 14]])"
       ]
      }
     ],
     "prompt_number": 16
    },
    {
     "cell_type": "code",
     "collapsed": false,
     "input": [
      "def transform_coordinates(point_vector):\n",
      "    standard_bases = [matrix([[-sqrt(2)/2],[sqrt(2)/2]]), matrix([[sqrt(2)/2],[sqrt(2)/2]])]\n",
      "    #standard_bases = [matrix([[1],[0]]), matrix([[0],[1]])]\n",
      "    result = point_vector[0]*standard_bases[0] + point_vector[1]*standard_bases[1]\n",
      "    return [result.tolist()[0][0], result.tolist()[1][0]]\n",
      "\n",
      "def transform_standard_coordinates(point_vector):\n",
      "    standard_bases = [matrix([[1],[0]]), matrix([[0],[1]])]\n",
      "    result = point_vector[0]*standard_bases[0] + point_vector[1]*standard_bases[1]\n",
      "    return [result.tolist()[0][0], result.tolist()[1][0]]\n",
      "\n",
      "standard_bases = [matrix([[1],[0]]), matrix([[0],[1]])]\n",
      "vector = matrix([[2],[1]])\n",
      "\n",
      "vector.tolist()[0][0]*standard_bases[0] + vector.tolist()[1][0]*standard_bases[1]\n",
      "\n",
      "transform_coordinates([2,1])\n",
      "#vector[0,0]*standard_bases[0] + vector[1,0]*standard_bases[1]"
     ],
     "language": "python",
     "metadata": {},
     "outputs": [
      {
       "metadata": {},
       "output_type": "pyout",
       "prompt_number": 87,
       "text": [
        "[-0.7071067811865476, 2.121320343559643]"
       ]
      }
     ],
     "prompt_number": 87
    },
    {
     "cell_type": "code",
     "collapsed": false,
     "input": [
      "data_points = [\n",
      "               [-1,1],[0,1],[1,1],\n",
      "               [-1,0],[0,0],[1,0],\n",
      "               [-1,-1],[0,-1],[1,-1]]\n",
      "    \n",
      "def plot_data(data_points):\n",
      "    transformed_data_points = [transform_coordinates(data_point) for data_point in data_points]\n",
      "    data_x, data_y = zip(*transformed_data_points)\n",
      "    fig=figure()\n",
      "    ax = fig.add_subplot(111)\n",
      "    plt.xlim(-5,5)\n",
      "    plt.ylim(-4,4)\n",
      "    ax.plot(data_x, data_y, 'or')\n",
      "\n",
      "plot_data(data_points)"
     ],
     "language": "python",
     "metadata": {},
     "outputs": [
      {
       "metadata": {},
       "output_type": "display_data",
       "png": "[encoded data removed]",
       "text": [
        "<matplotlib.figure.Figure at 0x110495cd0>"
       ]
      }
     ],
     "prompt_number": 88
    },
    {
     "cell_type": "code",
     "collapsed": false,
     "input": [
      "def rotate_point(point,angle):\n",
      "    radians = angle*math.pi/180\n",
      "    rotation_matrix = np.matrix([\n",
      "               [math.cos(radians), -math.sin(radians), 0],\n",
      "               [math.sin(radians), math.cos(radians), 0],\n",
      "               [0,0,1]])\n",
      "    point_matrix = np.matrix([[1,0,point[0]],\n",
      "                              [0,1,point[1]],\n",
      "                              [0,0,1]])\n",
      "    rotated_matrix = rotation_matrix*point_matrix\n",
      "    print rotated_matrix\n",
      "    return (rotated_matrix[0,2], rotated_matrix[1,2])\n",
      "\n",
      "rotate_point([1,1], 5)"
     ],
     "language": "python",
     "metadata": {},
     "outputs": [
      {
       "output_type": "stream",
       "stream": "stdout",
       "text": [
        "[[-0.08715574  0.9961947   0.90903896]\n",
        " [ 0.9961947   0.08715574  1.08335044]\n",
        " [ 0.          0.          1.        ]]\n"
       ]
      },
      {
       "metadata": {},
       "output_type": "pyout",
       "prompt_number": 100,
       "text": [
        "(0.90903895534408741, 1.0833504408394037)"
       ]
      }
     ],
     "prompt_number": 100
    },
    {
     "cell_type": "code",
     "collapsed": false,
     "input": [
      "rotated_points = [rotate_point(point, 0) for point in data_points]\n",
      "plot_data(rotated_points)"
     ],
     "language": "python",
     "metadata": {},
     "outputs": [
      {
       "output_type": "stream",
       "stream": "stdout",
       "text": [
        "[[ 0.  1.  0.]\n",
        " [ 1.  0.  0.]\n",
        " [ 0.  0.  1.]]\n",
        "[[ 0.  1.  0.]\n",
        " [ 1.  0.  1.]\n",
        " [ 0.  0.  1.]]\n",
        "[[ 0.  1.  1.]\n",
        " [ 1.  0.  0.]\n",
        " [ 0.  0.  1.]]\n",
        "[[ 0.  1.  1.]\n",
        " [ 1.  0.  1.]\n",
        " [ 0.  0.  1.]]\n",
        "[[ 0.  1.  2.]\n",
        " [ 1.  0.  1.]\n",
        " [ 0.  0.  1.]]\n",
        "[[ 0.  1.  2.]\n",
        " [ 1.  0.  0.]\n",
        " [ 0.  0.  1.]]\n"
       ]
      },
      {
       "metadata": {},
       "output_type": "display_data",
       "png": "[encoded data removed]",
       "text": [
        "<matplotlib.figure.Figure at 0x10f4882d0>"
       ]
      }
     ],
     "prompt_number": 102
    },
    {
     "cell_type": "code",
     "collapsed": false,
     "input": [
      "transform_operator = np.matrix([[-1.0, 0.0],[0.0, 1.0]])\n",
      "vectors = [np.matrix([[vector[0]],[vector[1]]]) for vector in data_points]\n",
      "transformed_vectors = [transform_operator*(1.0*vector) for vector in vectors]\n",
      "modified_data_points = [(data_point[0,0], data_point[1,0]) for data_point in transformed_vectors]\n",
      "plot_data(data_points)\n",
      "plot_data(modified_data_points)"
     ],
     "language": "python",
     "metadata": {},
     "outputs": [
      {
       "metadata": {},
       "output_type": "display_data",
       "png": "[encoded data removed]",
       "text": [
        "<matplotlib.figure.Figure at 0x10f5d79d0>"
       ]
      },
      {
       "metadata": {},
       "output_type": "display_data",
       "png": "[encoded data removed]",
       "text": [
        "<matplotlib.figure.Figure at 0x10f0a4ad0>"
       ]
      }
     ],
     "prompt_number": 104
    },
    {
     "cell_type": "code",
     "collapsed": false,
     "input": [
      "rotated_points = [rotate_point(point, 25) for point in modified_data_points]\n",
      "plot_data(rotated_points)"
     ],
     "language": "python",
     "metadata": {},
     "outputs": [
      {
       "metadata": {},
       "output_type": "display_data",
       "png": "[encoded data removed]",
       "text": [
        "<matplotlib.figure.Figure at 0x10f5c4f90>"
       ]
      }
     ],
     "prompt_number": 96
    }
   ],
   "metadata": {}
  }
 ]
}